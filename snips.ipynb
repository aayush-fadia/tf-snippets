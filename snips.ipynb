{
 "cells": [
  {
   "cell_type": "code",
   "execution_count": null,
   "metadata": {},
   "outputs": [],
   "source": [
    "# GPUU Bugfix\n",
    "import tensorflow\n",
    "physical_devices = tensorflow.config.list_physical_devices('GPU')\n",
    "tensorflow.config.experimental.set_memory_growth(physical_devices[0], enable=True)"
   ]
  },
  {
   "cell_type": "code",
   "execution_count": null,
   "metadata": {},
   "outputs": [],
   "source": [
    "# Custom Callback\n",
    "import os\n",
    "from tensorflow.keras.callbacks import Callback\n",
    "from tensorflow.summary import create_file_writer, scalar, text\n",
    "import tensorflow.keras.backend as TF\n",
    "from tensorflow.keras.models import Sequential, save_model\n",
    "class MyCallback(Callback):\n",
    "    def __init__(self, run_base_dir):\n",
    "        self.save_counter = 0\n",
    "        self.least_loss = -1\n",
    "        self.base_dir = run_base_dir\n",
    "        os.makedirs(self.base_dir, exist_ok=True)\n",
    "        os.makedirs(os.path.join(self.base_dir, \"models\"), exist_ok=True)\n",
    "        os.makedirs(os.path.join(self.base_dir, \"logs\"), exist_ok=True)\n",
    "        self.summary_writer = create_file_writer(os.path.join(self.base_dir, \"logs\"))\n",
    "        self.summary_writer.set_as_default()\n",
    "        self.iters_since_last_model_save = 0\n",
    "    def on_epoch_end(self, epoch, logs=None):\n",
    "        iter_no = TF.get_value(self.model.optimizer.iterations)\n",
    "        loss = logs['loss']\n",
    "        scalar(\"loss\", data=loss, step = iter_no)\n",
    "        text(\"sample\", generate_sample(\"<SOA> the trump administration\"), step=iter_no)\n",
    "        self.iters_since_last_model_save += 1\n",
    "        if self.least_loss<0 or loss<self.least_loss:\n",
    "            self.least_loss = loss\n",
    "            print(\"Loss decreased in iter {}\".format(iter_no))\n",
    "            if self.iters_since_last_model_save>0:\n",
    "                print(\"Saving model at iteration {} with loss {}\".format(iter_no, loss))\n",
    "                save_model(self.model, os.path.join(self.base_dir, \"models\", \"model-{0:.4f}.h5\".format(loss)))\n",
    "                self.iters_since_last_model_save = 0\n",
    "    def apply_lr(self):\n",
    "        TF.set_value(self.model.optimizer.lr, K.get_value(0.0001))"
   ]
  }
 ],
 "metadata": {
  "kernelspec": {
   "display_name": "Python 3",
   "language": "python",
   "name": "python3"
  },
  "language_info": {
   "codemirror_mode": {
    "name": "ipython",
    "version": 3
   },
   "file_extension": ".py",
   "mimetype": "text/x-python",
   "name": "python",
   "nbconvert_exporter": "python",
   "pygments_lexer": "ipython3",
   "version": "3.8.2"
  }
 },
 "nbformat": 4,
 "nbformat_minor": 4
}
